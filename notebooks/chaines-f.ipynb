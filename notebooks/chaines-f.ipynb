{
 "cells": [
  {
   "cell_type": "markdown",
   "metadata": {},
   "source": [
    "# Les chaînes f (f-strings)"
   ]
  },
  {
   "cell_type": "markdown",
   "metadata": {},
   "source": [
    "Les chaînes f ont été introduites dans Python à partir de la version 3.6. Elle permettent une mise en forme simple et efficace des chaînes de caractères, et permettent de contrôler finement la façon d'afficher les nombres.\n",
    "\n",
    "Pour utiliser les chaînes f, il suffit :\n",
    "\n",
    "- de placer le caractère f juste avant les guillemets ouvrant de la chaîne de caractères\n",
    "- de placer les variables dont on veut afficher la valeur directement dans la chaîne, en les entourant d'accolades {}\n",
    "\n",
    "On peut contrôler la façon dont les variables sont affichées en écrivant le caractère deux-points (:) juste après le nom de la variable dans les accolades, puis en utilisant un code de formatage particulier. \n",
    "\n",
    "Vous trouverez ci-dessous quelques exemples d'utilisation des chaînes f. \n",
    "\n",
    "**Exécutez chaque cellule avec le bouton « Exécuter » de la barre d'outils, ou bien avec le raccourci-clavier Maj + Entrée.**\n",
    "\n",
    "Vous pouvez modifier le code et l'exécuter à nouveau pour voir l'effet sur l'affichage des variables.\n",
    "\n",
    "<div class=\"alert alert-info\" role=\"alert\">\n",
    "Rappel : vous pouvez utiliser les flèches haut/bas pour changer de cellule, et utiliser la combinaison de touches Majuscule + Entrée pour exécuter une cellule de code Python\n",
    "</div>\n"
   ]
  },
  {
   "cell_type": "markdown",
   "metadata": {},
   "source": [
    "**Premier exemple simple : inclusion de texte et d'un nombre**"
   ]
  },
  {
   "cell_type": "code",
   "execution_count": null,
   "metadata": {},
   "outputs": [],
   "source": [
    "# initialisation des variables\n",
    "monument = \"la tour Eiffel\"\n",
    "hauteur =  324\n",
    "print(f\"la hauteur de {monument} est de {hauteur}m\")"
   ]
  },
  {
   "cell_type": "markdown",
   "metadata": {},
   "source": [
    "**Contrôle de l'affichage d'un nombre réel :**"
   ]
  },
  {
   "cell_type": "markdown",
   "metadata": {},
   "source": [
    "si on veut contrôler la façon dont la variable est affichée, on ajout le caractère deux points (:) suivi d'un ensemble de codes de formatage. \n",
    "Testons avec le nombre x = 12.743"
   ]
  },
  {
   "cell_type": "code",
   "execution_count": null,
   "metadata": {},
   "outputs": [],
   "source": [
    "x = 12.743\n",
    "print(f\"test 1 : x est égal à {x}\")"
   ]
  },
  {
   "cell_type": "markdown",
   "metadata": {},
   "source": [
    "en ajoutant f, on indique explicitement qu'on veut afficher un réel"
   ]
  },
  {
   "cell_type": "code",
   "execution_count": null,
   "metadata": {},
   "outputs": [],
   "source": [
    "print(f\"test 2 :x est égal à {x:f}\")"
   ]
  },
  {
   "cell_type": "markdown",
   "metadata": {},
   "source": [
    "on peut également choisir le nombre de chiffres après la virgule :"
   ]
  },
  {
   "cell_type": "code",
   "execution_count": null,
   "metadata": {},
   "outputs": [],
   "source": [
    "print(f\"test 3 :x est égal à {x:.8f}\")"
   ]
  },
  {
   "cell_type": "markdown",
   "metadata": {},
   "source": [
    "On peut même choisir le nombre total de caractères affichés des espaces sont ajoutés devant si nécessaire. Notez les 5 espaces ajoutés devant la valeur."
   ]
  },
  {
   "cell_type": "code",
   "execution_count": null,
   "metadata": {},
   "outputs": [],
   "source": [
    "print(f\"test 4 :x est égal à {x:10.2f}\")"
   ]
  },
  {
   "cell_type": "markdown",
   "metadata": {},
   "source": [
    "on peut aligner à gauche (<), à droite (>) ou centrer (^)"
   ]
  },
  {
   "cell_type": "code",
   "execution_count": null,
   "metadata": {},
   "outputs": [],
   "source": [
    "print(f\"test 5 :x est égal à {x:<10.2f}\")\n",
    "print(f\"test 6 :x est égal à {x:>10.2f}\")\n",
    "print(f\"test 7 :x est égal à {x:^10.2f}\")"
   ]
  },
  {
   "cell_type": "markdown",
   "metadata": {},
   "source": [
    "on peut même remplir les blancs avec le caractère de son choix"
   ]
  },
  {
   "cell_type": "code",
   "execution_count": null,
   "metadata": {},
   "outputs": [],
   "source": [
    "print(f\"test 8 :x est égal à {x:*^10.2f}\")"
   ]
  },
  {
   "cell_type": "markdown",
   "metadata": {},
   "source": [
    "pour une écriture scientifique, il suffit de remplacer le f par e"
   ]
  },
  {
   "cell_type": "code",
   "execution_count": null,
   "metadata": {},
   "outputs": [],
   "source": [
    "print(f\"test 9 :x est égal à {x:.3e}\")"
   ]
  },
  {
   "cell_type": "markdown",
   "metadata": {},
   "source": [
    "enfin, on affiche simplement un pourcentage avec %"
   ]
  },
  {
   "cell_type": "code",
   "execution_count": null,
   "metadata": {},
   "outputs": [],
   "source": [
    "p = 0.347\n",
    "print(f\"test 10 : p = {p:.1%}\")"
   ]
  }
 ],
 "metadata": {
  "kernelspec": {
   "display_name": "Python 3 (ipykernel)",
   "language": "python",
   "name": "python3"
  },
  "language_info": {
   "codemirror_mode": {
    "name": "ipython",
    "version": 3
   },
   "file_extension": ".py",
   "mimetype": "text/x-python",
   "name": "python",
   "nbconvert_exporter": "python",
   "pygments_lexer": "ipython3",
   "version": "3.12.3"
  }
 },
 "nbformat": 4,
 "nbformat_minor": 4
}
