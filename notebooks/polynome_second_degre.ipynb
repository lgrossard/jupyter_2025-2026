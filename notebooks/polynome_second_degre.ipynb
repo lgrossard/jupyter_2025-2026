{
 "cells": [
  {
   "cell_type": "markdown",
   "metadata": {},
   "source": [
    "# Calcul des racines d'un polynôme d'ordre 2"
   ]
  },
  {
   "cell_type": "markdown",
   "metadata": {},
   "source": [
    "<div class=\"alert alert-info\">\n",
    "  <p class=\"mb-0\"><b>Travail individuel à déposer sur Moodle avant le mercredi 22 octobre 2025 à 20h.</b></p>\n",
    "</div>"
   ]
  },
  {
   "cell_type": "markdown",
   "metadata": {},
   "source": [
    "**Identification de l'étudiant**\n",
    "\n",
    "*double-cliquez sur la cellule pour la modifier (rappel : touches Majuscule + Entrée pour valider ensuite)*\n",
    "\n",
    "\n",
    "- Nom : `ajoutez ici votre nom`\n",
    "- Prénom : `ajoutez ici votre prénom`\n",
    "\n",
    "<hr>"
   ]
  },
  {
   "cell_type": "markdown",
   "metadata": {},
   "source": [
    "## Écriture du code\n",
    "\n",
    "Vous avez ci-dessous la structure globale du code pour afficher les racines du polynôme d'ordre 2.\n",
    "Complétez ce code pour le rendre fonctionnel. Vous pouvez le tester en cliquant sur le bouton Run, ou bien avec le raccourci-clavier Maj + Entrée (recliquez sur la cellule contenant le code pour pouvoir l'exécuter)\n",
    "\n",
    "### Indications\n",
    "\n",
    "Les valeurs des coefficients a, b et c seront saisies par l'utilisateur.\n",
    "- si a est nul, il ne s'agit pas d'un polynôme d'ordre 2, et il faut afficher un message d'avertissement\n",
    "- sinon, on peut calculer la ou les racines :\n",
    "- on commence d'abord par calculer la valeur du discriminent.\n",
    "- s'il est positif, on affiche les deux racines réelles,\n",
    "- s'il est nul, on affiche la racine unique\n",
    "- enfin, s'il est négatif, on affiche les deux racines complexes.\n",
    "\n",
    "Selon les cas, votre programme devra afficher exactement ce qui se trouve ci-dessous (chaque caractère x représente un chiffre). Toutes les valeurs seront affichées avec trois chiffres après la virgule **en utilisant des chaînes f**."
   ]
  },
  {
   "cell_type": "markdown",
   "metadata": {},
   "source": [
    "**si a est nul**\n",
    "\n",
    "```\n",
    "ce n'est pas un polynôme d'ordre 2\n",
    "```\n",
    "\n",
    "**si delta est positif**\n",
    "\n",
    "```\n",
    "les deux racines réelles sont :\n",
    "z1 = x.xxx\n",
    "z2 = x.xxx\n",
    "```\n",
    "\n",
    "**si delta est nul**\n",
    "\n",
    "```\n",
    "la racine réelle est :\n",
    "z = x.xxx\n",
    "```\n",
    "\n",
    "**si delta est négatif**\n",
    "\n",
    "```\n",
    "Les deux racines complexes sont :\n",
    "z1 = x.xxx - x.xxxj\n",
    "z2 = x.xxx + x.xxxj\n",
    "```"
   ]
  },
  {
   "cell_type": "code",
   "execution_count": 1,
   "metadata": {},
   "outputs": [],
   "source": [
    "# On commence par définir les variables utilisées, en commentaire.\n",
    "\n",
    "# variables\n",
    "# a, b, c : nombres réels, coefficients du polynôme\n",
    "# delta : nombre réel, discriminant du polynôme\n",
    "# z1_re : nombre réel, partie réelle de la racine 1\n",
    "# z1_im : nombre réel, partie imaginaire de la racine 1\n",
    "# z2_re : nombre réel, partie réelle de la racine 2\n",
    "# z2_im : nombre réel, partie imaginaire de la racine 2\n",
    "\n",
    "# On importe ensuite la fonction racine carrée (sqrt) depuis la bibliothèque mathématique\n",
    "from math import sqrt\n",
    "\n",
    "# On demande ensuite à l'utilisateur de saisir les valeurs des coefficients du polynôme. \n",
    "# Notez qu'il serait également possible de simplement initialiser les valeurs de a, b et c \n",
    "# en y plaçant directement les valeurs voulues.\n",
    "a = ????\n",
    "b = ????\n",
    "c = ????\n",
    "\n",
    "# on vérifie que le polynôme est bien d'ordre 2\n",
    "# sinon on aura un problème de division par zéro !\n",
    "if ????:\n",
    "    print(\"ce n'est pas un polynôme d'ordre 2\")\n",
    "    # on ne fait rien d'autre\n",
    "else:\n",
    "    # c'est bien un polynôme d'ordre 2, on calcule le discriminent\n",
    "    delta = ????\n",
    "    \n",
    "    # premier cas, le discriminent est positif\n",
    "    # on ne travaille qu'avec les variables z1_re et z2_re\n",
    "    if ????:\n",
    "        z1_re = ????\n",
    "        z2_re = ????\n",
    "        \n",
    "        # affichage des racines réelles\n",
    "        print(\"les deux racines réelles sont :\")\n",
    "        print(????)\n",
    "        print(????)\n",
    "        \n",
    "    # sinon si le discriminent est nul\n",
    "    # on ne travaille qu'avec la variable z1_re\n",
    "    elif ????:\n",
    "        z1_re = ????\n",
    "        \n",
    "        # affichage de la racine réelle\n",
    "        print(\"la racine réelle est :\")\n",
    "        print(????)\n",
    "        \n",
    "    # sinon, le discriminent est forcément négatif\n",
    "    # on travaille avec toutes les variables\n",
    "    else:\n",
    "        z1_re = ????\n",
    "        z1_im = ????\n",
    "        z2_re = ????\n",
    "        z2_im = ????\n",
    "        \n",
    "        # le signe de z1_im est l'opposé du signe de a\n",
    "        # on crée une variable signe1 de type texte contenant \n",
    "        # le signe à afficher pour z1_im\n",
    "        # pour z2_im, on crée une variable signe2 inverse\n",
    "        if ????:\n",
    "            signe1 = \"-\"\n",
    "            signe2 = ????\n",
    "        else:\n",
    "            signe1 = ????\n",
    "            signe2 = ????\n",
    "        \n",
    "        # affichage des racines complexes à l'aide de chaînes f\n",
    "        # en utilisant les variables définies ci-dessus\n",
    "        print(\"Les deux racines complexes sont :\")\n",
    "        print(f\"z1 = {z1_re} ??? j\")\n",
    "        print(f\"z2 = {z2_re} ??? j\")\n"
   ]
  },
  {
   "cell_type": "markdown",
   "metadata": {},
   "source": [
    "## Algorigramme\n",
    "\n",
    "Pour vous aider à comprendre la structure du code sur lequel vous devez travaillez, voici l'algorigramme correspondant :\n",
    "\n",
    "<img src=\"images/polynome.png\">"
   ]
  },
  {
   "cell_type": "code",
   "execution_count": null,
   "metadata": {},
   "outputs": [],
   "source": []
  }
 ],
 "metadata": {
  "kernelspec": {
   "display_name": "Python 3 (ipykernel)",
   "language": "python",
   "name": "python3"
  },
  "language_info": {
   "codemirror_mode": {
    "name": "ipython",
    "version": 3
   },
   "file_extension": ".py",
   "mimetype": "text/x-python",
   "name": "python",
   "nbconvert_exporter": "python",
   "pygments_lexer": "ipython3",
   "version": "3.12.3"
  }
 },
 "nbformat": 4,
 "nbformat_minor": 2
}
