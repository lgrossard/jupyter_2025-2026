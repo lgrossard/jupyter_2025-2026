{
 "cells": [
  {
   "cell_type": "markdown",
   "id": "global-strap",
   "metadata": {},
   "source": [
    "# Ex 2.2 : moyenne d'une série de notes"
   ]
  },
  {
   "cell_type": "markdown",
   "id": "psychological-target",
   "metadata": {},
   "source": [
    "L’objectif est de calculer la moyenne d’une série de notes (entre 0 et 20), puis d’en afficher le résultat. L’utilisateur saisira les valeurs les unes après les autres, et terminera par la valeur particulière\n",
    "−1 pour signifier que la saisie est terminée."
   ]
  },
  {
   "cell_type": "markdown",
   "id": "earlier-donna",
   "metadata": {},
   "source": [
    "Faites le bilan des variables nécessaires dans le programme et leurs types"
   ]
  },
  {
   "cell_type": "code",
   "execution_count": null,
   "id": "lesbian-visit",
   "metadata": {},
   "outputs": [],
   "source": [
    "# variables\n",
    "# note : réel, une note saisie\n",
    "# nb_notes : entier, nombre total de notes\n",
    "# moyenne : réel, la moyenne des notes\n",
    "# somme : réel, la somme des notes saisies"
   ]
  },
  {
   "cell_type": "markdown",
   "id": "standing-firmware",
   "metadata": {},
   "source": [
    "En utilisant l’algorigramme 2.1a (version simplifiée), écrivez le code Python permettant de calculer la moyenne des notes saisies. Le code nécessitera très probablement quelques ajustements pour fonctionner correctement. Assurez-vous que le code gère convenablement le cas où aucune note n’est saisie (l’utilisateur saisit directement −1)."
   ]
  },
  {
   "cell_type": "code",
   "execution_count": null,
   "id": "fitted-reconstruction",
   "metadata": {},
   "outputs": [],
   "source": [
    "# initialisation des variables\n",
    "nb_notes = 0\n",
    "note = 0\n",
    "somme = 0\n",
    "\n",
    "# boucle de saisie des notes \n",
    "# si la note vaut -1, on va directement à la fin du code\n",
    "# et on affiche un texte explicatif\n",
    "while note != -1:\n",
    "    \n",
    "    # on demande à l'utilisateur de saisir une note\n",
    "    note = float(input(\"Note : \"))\n",
    "    \n",
    "    # mise à jour du nombre de notes et de la somme\n",
    "    nb_notes = nb_notes + 1\n",
    "    somme = somme + note\n",
    "\n",
    "# on est sorti de la boucle de saisie\n",
    "# mais la note -1 a été prise en compte\n",
    "# il faut donc :\n",
    "# - ajouter +1 à la somme\n",
    "# - retrancher 1 au nombre de notes\n",
    "somme += 1\n",
    "nb_notes -= 1\n",
    "\n",
    "\n",
    "# on vérifie que le nombre de notes est non nul\n",
    "if nb_notes != 0:\n",
    "    # nb_notes est non nul, on peut calculer de la moyenne sans division par 0\n",
    "    moyenne = somme / nb_notes\n",
    "    \n",
    "    # affichage de la moyenne\n",
    "    print(\"Moyenne :\", moyenne) \n",
    "else:\n",
    "    # pas de note saisie. On ne calcule rien et on affiche un message à l'utilisateur\n",
    "    print(\"Pas de note saisie\")"
   ]
  },
  {
   "cell_type": "markdown",
   "id": "714d9617",
   "metadata": {},
   "source": [
    "En utilisant l’algorigramme 2.1b (version améliorée), écrivez le code Python permettant de calculer la moyenne des notes saisies. Si une note saisie n’est pas comprise entre 0 et 20 (et si ce n’est pas −1), elle doit être ignorée (cette vérification n’apparaît pas dans l’algorigramme)."
   ]
  },
  {
   "cell_type": "code",
   "execution_count": null,
   "id": "28ab7d9c",
   "metadata": {},
   "outputs": [],
   "source": [
    "# initialisation des variables\n",
    "nb_notes = 0\n",
    "somme = 0\n",
    "\n",
    "# saisie de la première note\n",
    "print(\"Saisissez les notes, terminez la saisie par -1\")\n",
    "note = float(input(\"Note : \"))\n",
    "\n",
    "# boucle de saisie des notes suivantes\n",
    "# si la note vaut -1, on va directement à la fin du code\n",
    "# et on affiche un texte explicatif\n",
    "while note != -1:\n",
    "    \n",
    "    # mise à jour du nombre de notes et de la somme\n",
    "    nb_notes = nb_notes + 1\n",
    "    somme = somme + note\n",
    "    \n",
    "    # on demande à l'utilisateur de saisir une note\n",
    "    note = float(input(\"Note : \"))\n",
    "\n",
    "# on vérifie que le nombre de notes est non nul\n",
    "if nb_notes != 0:\n",
    "    # nb_notes est non nul, on peut calculer de la moyenne sans division par 0\n",
    "    moyenne = somme / nb_notes\n",
    "    \n",
    "    # affichage de la moyenne\n",
    "    print(\"Moyenne :\", moyenne) \n",
    "else:\n",
    "    # pas de note saisie. On ne calcule rien et on affiche un message à l'utilisateur\n",
    "    print(\"Pas de note saisie\")"
   ]
  },
  {
   "cell_type": "markdown",
   "id": "01254049",
   "metadata": {},
   "source": [
    "## Algorigrammes\n",
    "\n",
    "- à gauche : version simplifiée  \n",
    "- à droite : version améliorée"
   ]
  },
  {
   "cell_type": "markdown",
   "id": "3fc2ffbb",
   "metadata": {},
   "source": [
    "<img style=\"float:left;margin-left: 150px;\" src=\"images/ex2.2_version1.drawio.png\"><img style=\"float:right;margin-right:150px;\" src=\"images/ex2.2_version2.drawio.png\">"
   ]
  }
 ],
 "metadata": {
  "kernelspec": {
   "display_name": "Python 3 (ipykernel)",
   "language": "python",
   "name": "python3"
  },
  "language_info": {
   "codemirror_mode": {
    "name": "ipython",
    "version": 3
   },
   "file_extension": ".py",
   "mimetype": "text/x-python",
   "name": "python",
   "nbconvert_exporter": "python",
   "pygments_lexer": "ipython3",
   "version": "3.12.3"
  }
 },
 "nbformat": 4,
 "nbformat_minor": 5
}
