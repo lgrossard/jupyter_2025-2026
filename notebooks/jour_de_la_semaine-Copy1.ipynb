{
 "cells": [
  {
   "cell_type": "markdown",
   "metadata": {},
   "source": [
    "# Détermination du jour de la semaine"
   ]
  },
  {
   "cell_type": "markdown",
   "metadata": {},
   "source": [
    "<div class=\"alert alert-info\">\n",
    "  <p class=\"mb-0\">Travail individuel à déposer sur Moodle avant le mercredi 27 septembre 2023 à 20h.</p>\n",
    "</div>"
   ]
  },
  {
   "cell_type": "markdown",
   "metadata": {},
   "source": [
    "**Identification de l'étudiant**\n",
    "\n",
    "*double-cliquez sur la cellule pour la modifier (rappel : touches Majuscule + Entrée pour valider ensuite)*\n",
    "\n",
    "\n",
    "- Nom : `ajoutez ici votre nom`\n",
    "- Prénom : `ajoutez ici votre prénom`\n",
    "\n",
    "<hr>"
   ]
  },
  {
   "cell_type": "markdown",
   "metadata": {},
   "source": [
    "## Copie du fichier dans votre zone personnelle\n",
    "\n",
    "<div class=\"alert alert-block alert-danger\">Cette étape est importante pour éviter que vous ne perdiez votre travail</div>\n",
    "\n",
    "La première chose à faire est d'effectuer une copie de ce fichier pour éviter que votre travail soit perdu en cas de mise à jour des fichiers du cours.\n",
    "\n",
    "Cliquez sur `File > Make a Copy`. Vous travaillez maintenant directement sur votre copie personnelle.\n",
    "\n",
    "Notez que l'URL de votre fichier de travail contient maintenant `-Copy1` et ressemble à quelque chose comme ça :\n",
    "\n",
    "`/notebooks/informatique_BUT1/notebooks/jour_de_la_semaine-Copy1.ipynb`\n",
    "\n",
    "Vous pouvez retrouver ce fichie dans le dossier `notebooks`\n",
    "\n",
    "<hr>"
   ]
  },
  {
   "cell_type": "markdown",
   "metadata": {},
   "source": [
    "## Quelques éléments sur l'algorithme\n",
    "\n",
    "L'algorithme que vous allez implémenter ici en langage Python permet de calculer le jour de la semaine pour une date donnée dans le calendrier Grégorien.\n",
    "\n",
    "Cette méthode de calcul est valable pour les dates à partir du 1er novembre 1582.\n",
    "\n",
    "Pour une date de la forme *jour, mois, annee* où *jour* prend une valeur de 01 à 31, *mois* de 01 à 12 et *annee* de 1583 à 9999, on utilise la formule suivante :\n",
    "\n",
    "<pre>\n",
    "j = ( jour + a + a//4 - a//100 + a//400 + 31*m//12 ) % 7\n",
    "</pre>\n",
    "\n",
    "- l'opérateur // correspond à la division entière.\n",
    "- l'opérateur \\% correspond au modulo (reste de la division entière)\n",
    "\n",
    "avec :\n",
    "\n",
    "- c = (14 - mois)//12 (c = 1 pour janvier et février, c = 0 pour les autres mois)\n",
    "- a = annee - c\n",
    "- m = mois + 12*c - 2\n",
    "\n",
    "La valeur obtenue pour j correspond alors à un jour de la semaine suivant la correspondance : \n",
    "- 0 = dimanche\n",
    "- 1 = lundi\n",
    "- 2 = mardi\n",
    "- ...\n",
    "\n"
   ]
  },
  {
   "cell_type": "markdown",
   "metadata": {},
   "source": [
    "## Complétez le code ci-dessous pour calculer le jour correspondant à la date donnée"
   ]
  },
  {
   "cell_type": "code",
   "execution_count": null,
   "metadata": {},
   "outputs": [],
   "source": [
    "# variables\n",
    "\n",
    "# jour, nombre entier : numéro du jour de la date\n",
    "# mois, nombre entier : numéro du mois de la date\n",
    "# annee, nombre entier : numéro de l'année de la date, entre 1583 et 9999\n",
    "\n",
    "# a, c, m, nombres entiers : valeurs intermédiaires\n",
    "# j, nombre entier : jour de la semaine de la date, dimanche = 0\n",
    "\n",
    "# on demande la date à l'utilisateur (données en entrée)\n",
    "jour = ????\n",
    "mois = ????\n",
    "annee = ????\n",
    "\n",
    "# calcul de a, c et m\n",
    "c = ????\n",
    "a = ????\n",
    "m = ????\n",
    "\n",
    "# calcul du jour de la semaine\n",
    "j = ????\n",
    "\n",
    "# affichage du jour de la semaine\n",
    "print(\"jour de la semaine :\", ????)\n",
    "\n",
    "# vérification avec la bibliothèque python\n",
    "# https://docs.python.org/3/library/datetime.html#date-objects\n",
    "# 0 = lundi\n",
    "# 1 = mardi\n",
    "# on décale avec +1 et %7\n",
    "from datetime import date\n",
    "print(\"python donne :\", ( date(annee, mois, jour).weekday() + 1) % 7)\n",
    "\n"
   ]
  },
  {
   "cell_type": "markdown",
   "metadata": {},
   "source": [
    "## Dépôt de votre travail"
   ]
  },
  {
   "cell_type": "markdown",
   "metadata": {},
   "source": [
    "Lorsque vous avez terminé de travailler sur votre notbook, vous devez d'abord le télécharger sur votre ordinateur en cliquant sur `File > Download as > Notebook (.ipynb)`. \n",
    "\n",
    "Le fichier contenant votre travail se trouvera alors dans le dossier `Téléchargement` sur votre ordinateur. Vous pourrez ensuite le déposer sur Moodle pour que je le regarde et vous fasse des commentaires."
   ]
  },
  {
   "cell_type": "code",
   "execution_count": null,
   "metadata": {},
   "outputs": [],
   "source": []
  }
 ],
 "metadata": {
  "kernelspec": {
   "display_name": "Python 3 (ipykernel)",
   "language": "python",
   "name": "python3"
  },
  "language_info": {
   "codemirror_mode": {
    "name": "ipython",
    "version": 3
   },
   "file_extension": ".py",
   "mimetype": "text/x-python",
   "name": "python",
   "nbconvert_exporter": "python",
   "pygments_lexer": "ipython3",
   "version": "3.10.12"
  }
 },
 "nbformat": 4,
 "nbformat_minor": 4
}
