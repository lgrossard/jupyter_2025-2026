{
 "cells": [
  {
   "cell_type": "markdown",
   "id": "44a8b829",
   "metadata": {},
   "source": [
    "# Les algorigrammes\n",
    "\n",
    "Un algorigramme (ou organigramme de programmation) est une représentation graphique normalisée de l'enchaînement des opérations et des décisions effectuées par un algorithme (voir [Wikipedia](https://www.wikiwand.com/fr/Organigramme_de_programmation))\n",
    "\n",
    "Lors des travaux dirigés, les algorigrammes vous seront \n",
    "- parfois fournis pour que vous puissiez facilement visualiser les différents éléments constituant l'algorithme\n",
    "- parfois demandés pour que vous structuriez par vous même l'algorithme que vous souhaitez développer\n",
    "\n",
    "Lors de la seconde partie de la SAÉ, nous vous demanderons de réaliser les algorigrammes des codes que vous développerez.\n",
    "\n",
    "Nous travaillerons avec le logiciel en ligne (libre et gratuit) disponible à cette adresse :\n",
    "\n",
    "https://grossard.fr/diagram/ (patientez quelques instants le temps que le logiciel se charge complètement)\n",
    "\n",
    "Vous pouvez également télécharger le <a href=\"template_algorigramme.drawio\">modèle de document</a> à ouvrir dans le logiciel pour disposer des briques essentielles prêtes à l'emploi. \n",
    "\n",
    "Pour passer le logiciel en français, allez dans le menu Extras > Language > Français\n",
    "\n",
    "Les blocs à utilisés sont regroupés dans la colonne de gauche dans « Diagramme de flux »"
   ]
  },
  {
   "cell_type": "markdown",
   "id": "9884e29c",
   "metadata": {},
   "source": [
    "## Exemple d'algorigramme\n",
    "\n",
    "Prenons l'exemple d'un petit programme ultra-simple qui indique si une année est bissextile. En python, cela donnerait :\n"
   ]
  },
  {
   "cell_type": "code",
   "execution_count": null,
   "id": "7570c35b",
   "metadata": {
    "scrolled": true
   },
   "outputs": [],
   "source": [
    "    annee = int(input(\"année : \"))\n",
    "    if( annee % 4 == 0 and annee % 100 != 0 or annee % 400 == 0):\n",
    "        print(\"bissextile\")\n",
    "    else:\n",
    "        print(\"non bissextile\")"
   ]
  },
  {
   "cell_type": "markdown",
   "id": "e2335f38",
   "metadata": {},
   "source": [
    "L'algorigramme correspondant serait par exemple celui-ci :\n",
    "\n",
    "<img src=\"images/annee_bissextile.png\">"
   ]
  },
  {
   "cell_type": "markdown",
   "id": "53f625a5",
   "metadata": {},
   "source": [
    "## Blocs utilisés"
   ]
  },
  {
   "cell_type": "markdown",
   "id": "9e93fc3f",
   "metadata": {},
   "source": [
    "\n",
    "| bloc |utilisation|\n",
    "| ---- | ----|\n",
    "| <img src=\"images/main.png\" width=\"100px\"> |Début d'algorigramme |\n",
    "| <img src=\"images/entree_manuelle.png\" width=\"100px\"> |Permet de demander une information à l'utilisateur  |\n",
    "| <img src=\"images/processus.png\" width=\"100px\"> |Permet de regrouper toutes les opérations associées à un traitement particuiler  |\n",
    "| <img src=\"images/affichage.png\" width=\"100px\"> |Affichage d'une information pour l'utilisateur, généralement à l'écran  |\n",
    "| <img src=\"images/IO.png\" width=\"100px\"> |Entrée ou sortie d'information autre que le clavier ou l'écran (par exemple sur un port USB, sur le réseau...)   |\n",
    "| <img src=\"images/sous-programme.png\" width=\"100px\"> |Appel à un autre sous-programme, généralement défini par une fonction   |\n",
    "| <img src=\"images/stockage.png\" width=\"100px\"> |Permet d'indiquer explicitement que le résultat d'un calcul ou la valeur retournée par un sous-programme est stocké dans une variable   |\n",
    "| <img src=\"images/ecriture_fichier.png\" width=\"100px\"> |Indique que des données sont écrites dans un fichier   |\n",
    "| <img src=\"images/test.png\" width=\"100px\"> |Si la condition est vraie, l'algorigramme se poursuit vers le bas, sinon, vers la droite   |\n",
    "| <img src=\"images/end.png\" width=\"100px\"> |Fin d'algorigramme   |"
   ]
  },
  {
   "cell_type": "code",
   "execution_count": null,
   "id": "3d03b7bf",
   "metadata": {},
   "outputs": [],
   "source": []
  }
 ],
 "metadata": {
  "kernelspec": {
   "display_name": "Python 3 (ipykernel)",
   "language": "python",
   "name": "python3"
  },
  "language_info": {
   "codemirror_mode": {
    "name": "ipython",
    "version": 3
   },
   "file_extension": ".py",
   "mimetype": "text/x-python",
   "name": "python",
   "nbconvert_exporter": "python",
   "pygments_lexer": "ipython3",
   "version": "3.12.3"
  }
 },
 "nbformat": 4,
 "nbformat_minor": 5
}
