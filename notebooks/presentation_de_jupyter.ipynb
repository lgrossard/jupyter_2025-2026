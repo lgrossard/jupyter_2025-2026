{
 "cells": [
  {
   "cell_type": "markdown",
   "metadata": {},
   "source": [
    "# Présentation de Jupyter\n",
    "\n",
    "[Jupyter](https://jupyter.org/) est un logiciel fonctionnant en ligne, et permettant de mélanger du code, des commentaires et des visualisations dans un document interactif appelé notebook (cahier en français). \n",
    "\n",
    "Un notebook Jupyter peut contenir :\n",
    "\n",
    "- **du texte et du code HTML** (le langage des pages web). Le texte utilise la syntaxe [Markdown](https://github.com/adam-p/markdown-here/wiki/Markdown-Cheatsheet), et peut être inséré à n’importe quel endroit dans le document.\n",
    "\n",
    "- **des blocs de code Python**. Le résultat du code exécuté apparait immédiatement après les blocs de code et ces derniers peuvent être modifiés, exécutés et rééxécutés dans l’ordre que l’on choisira, aussi souvent qu’on le voudra.\n",
    "\n",
    "- **Les visualisations :** les graphiques peuvent être générés à partir du code en utilisant des modules comme Matplotlib. Comme les autres rendus, ces visualisations apparaissent en ligne sous le code à partir duquel elles ont été générées.\n",
    "\n",
    "- **Le multimedia :** Jupyter s’appuyant sur des technologies web, il peut intégrer tous les types de documents multimédias que l'on trouve habituellement dans une page web\n",
    "\n",
    "- **Les données** peuvent être fournies dans un fichier séparé à côté du fichier.ipynb qui contient le notebook Jupyter, ou bien déposées sur le serveur Jupyter depuis votre ordinateur."
   ]
  },
  {
   "cell_type": "markdown",
   "metadata": {},
   "source": [
    "## Modifier une cellule de texte\n",
    "\n",
    "Le notebook est organisé en cellules. Par exemple, si vous cliquez une seule fois sur ce texte, vous allez sélectionner \n",
    "sa cellule (elle sera alors dans un cadre, avec du bleu sur le bord gauche). Vous pouvez également sélectionner de la \n",
    "même manière la cellule au-dessus, celle contenant le paragraphe d'introduction et la liste. Remarquez que lorsque vous sélectionnez une cellule de texte, la liste déroulante en haut de l'écran se met sur « Markdown » et indique bien qu'il s'agit de texte.\n",
    "\n",
    "Si vous double-cliquez sur la cellule, vous entrez en mode édition, et vous pouvez en modifier le contenu. Le langage utilisé est Markdown, qui permet d'écrire du code HTML dans une forme très simplifiée.\n",
    "\n",
    "*double-cliquez pour tenter de modifier cette phrase. Ne craignez rien, vous ne pouvez rien casser !*\n",
    "\n",
    "En mode édition, vous remarquerez qu'elle est entre deux caractères étoile ( * ) pour la mettre en italique. # pour faire un titre, ## pour faire un sous titre, etc. Vive le markdown :)\n",
    "\n",
    "Pour sortir du mode édition de la cellule, il suffit d'appuyer sur la combinaison de touches Majuscule + Entrée.\n",
    "\n",
    "Facile, non ?"
   ]
  },
  {
   "cell_type": "markdown",
   "metadata": {},
   "source": [
    "## Exécuter une cellule de code Python"
   ]
  },
  {
   "cell_type": "code",
   "execution_count": null,
   "metadata": {},
   "outputs": [],
   "source": [
    "# Cette cellule contient du code Python, mais heureusement on peut y mettre également des commentaires\n",
    "# sélectionnez la cellule (simple clic) et appuyez sur Majuscule + Entrée pour en exécuter le contenu\n",
    "# vous verrez le résultat s'afficher sous la cellule\n",
    "\n",
    "x = 1\n",
    "y = 2\n",
    "z = x + 2*y - 3\n",
    "\n",
    "print(\"z =\",z)"
   ]
  },
  {
   "cell_type": "markdown",
   "metadata": {},
   "source": [
    "Maintenant, cliquez sur la cellule pour en modifier le contenu, par exemple les valeurs de x ou y. Vous pouvez exécuter la cellule à nouveau. Pratique pour faire des tests !"
   ]
  },
  {
   "cell_type": "markdown",
   "metadata": {},
   "source": [
    "## Utilisation de Jupyter dans le module informatique et algorithmique\n",
    "<div id=\"depot\">\n",
    "\n",
    "Tout au long de ce module d'enseignement, je vous proposerai des notebooks sur lesquels travailler. Vous n'avez absolument rien à installer pour ouvrir les notebooks et les modifier. \n",
    "\n",
    "Une fois que vous aurez terminé vos modifications, vous déposerez votre travail sur Moodle dans des espaces de dépôt prévus à cet effet.Pour cela, vous devez d'abord le télécharger sur votre ordinateur en cliquant sur `File > Download`. Le fichier contenant votre travail se trouvera alors probablement dans le dossier `Téléchargement` sur votre ordinateur. Vous pourrez ensuite le déposer sur Moodle pour que je le regarde et vous fasse des commentaires.\n",
    "\n",
    "<div class=\"alert alert-block alert-danger\">Attention, si vous fermez la fenêtre du navigateur, ou bien si vous rechargez la page, le travail en cours sera perdu. Si vous n'avez pas terminé le travail, et souhaitez continuer plus tard, vous devez d'abord télécharger le fichier du notebook sur votre ordinateur. Je vous explique plus bas comment le redéposer sur le serveur pour continuer à travailler dessus</div>"
   ]
  },
  {
   "cell_type": "markdown",
   "metadata": {},
   "source": [
    "## Dépôt d'un notebook précédemment téléchargé pour continuer à travailler dessus\n",
    "\n",
    "Si vous avez préalablement téléchargé le notebook pour y retravailler plus tard, vous pouvez le redéposer pour continuer votre travail. Pour cela, cliquez sur l'icône `File Browser` qui se trouve en haut à gauche de la fenêtre ou utilisez le raccourci-clavier `Ctrl + Maj + F`.\n",
    "\n",
    "<img src=\"images/gestionnaire_de_fichiers.png\">\n",
    "\n",
    "Vous verrez apparaître ensuite la liste des fichiers. Cliquez sur le bouton `upload` pour téléverser votre notebook stocké actuellement sur votre ordinateur.\n",
    "\n",
    "<img src=\"images/upload.png\">\n",
    "\n",
    "Votre fichier apparaît alors dans la liste des fichiers. Double-cliquez sur ce fichier pour continuer de travailler dessus. N'oubliez pas de le télécharger ensuite de nouveau sur votre ordinateur. "
   ]
  },
  {
   "cell_type": "code",
   "execution_count": null,
   "metadata": {},
   "outputs": [],
   "source": []
  }
 ],
 "metadata": {
  "kernelspec": {
   "display_name": "Python 3 (ipykernel)",
   "language": "python",
   "name": "python3"
  },
  "language_info": {
   "codemirror_mode": {
    "name": "ipython",
    "version": 3
   },
   "file_extension": ".py",
   "mimetype": "text/x-python",
   "name": "python",
   "nbconvert_exporter": "python",
   "pygments_lexer": "ipython3",
   "version": "3.12.3"
  }
 },
 "nbformat": 4,
 "nbformat_minor": 4
}
