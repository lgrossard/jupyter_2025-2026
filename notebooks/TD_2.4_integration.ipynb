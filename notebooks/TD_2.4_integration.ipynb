{
 "cells": [
  {
   "cell_type": "markdown",
   "id": "complex-apparel",
   "metadata": {},
   "source": [
    "# Intégration numérique\n",
    "\n",
    "On cherche à calculer l'intégrale définie d'une fonction $f$ continue sur l'intervalle $[a,b]$. Si l'on connaît une primitive $F$ de $f$, on utilise alors la formule de Newton-Liebniz, qui exprime que l'intégrale est égale à la différence $F(b) - F(a)$ des valeurs prises par $F(x)$ aux extrémités de l'intervalle $[a,b]$. Si on ne connaît pas de primitive, on fait appel à des méthodes approchées, comme la méthode des rectangles ou la méthode des trapèzes. Vous étudierez ici ces deux dernières méthodes et écrirez les programmes qui les mettent en œuvre pour calculer l'intégrale d'une fonction."
   ]
  },
  {
   "cell_type": "markdown",
   "id": "spoken-vanilla",
   "metadata": {},
   "source": [
    "## Méthode des rectangles\n",
    "\n",
    "Le procédé le plus simple de calcul approché d'une intégrale définie découle de la définition même de l'intégrale : on approche la fonction $f$ par une fonction en escalier.\n",
    "\n",
    "Divisons l'intervalle $[a,b]$ en n parties égales avec les points d'abscisse :\n",
    "$$\n",
    "x_k = a + k \\dfrac{(b-a)}{n} = a + k\\times \\text{base}, \\quad k=0,1,\\dots,n-1\n",
    "$$\n",
    "\n",
    "La méthode des rectangles consiste à décomposer l'aire comprise entre la courbe représentative de \\(f(x)\\), l'axe des abscisses et les verticales $x=a$ et $x=b$. La décomposition est effectuée à l'aide de rectangles de largeur $\\text{base} = (b-a)/n$ et dont l'un des sommets s'appuie sur la courbe. On obtient alors, selon que l'on se base sur la borne gauche ou la borne droite de chaque intervalle élémentaire pour construire chaque rectangle :\n",
    "\n",
    "$$\n",
    "\\int_a^b f(x)dx \\approx \\sum_{k=0}^{n-1} \\left[ f(x_k) \\times \\text{base} \\right]\n",
    "\\quad \\text{ou} \\quad\n",
    "\\int_a^b f(x)dx \\approx \\sum_{k=1}^{n} \\left[ f(x_k) \\times \\text{base} \\right]\n",
    "$$\n",
    "\n",
    "Les données du problème sont les bornes $a$ et $b$ de l'intervalle d'intégration, et $n$ le nombre d'intervalles partiels dans l'intervalle $[a,b]$.\n",
    "\n",
    "**Écrivez le code Python permettant de calculer l'intégrale de  la fonction $f(x) = x^2 + 0.2$, pour n = 5, a = 0 et b = 1 avec la méthode des rectangles (pour des rectangles dont le sommet gauche s'appuie sur la courbe).**"
   ]
  },
  {
   "cell_type": "code",
   "execution_count": null,
   "id": "ecological-battle",
   "metadata": {},
   "outputs": [],
   "source": [
    "# Intégrale gauche\n",
    "# Déclaration des variables\n",
    "#\n",
    "# a, b : réels, bornes d'intégration\n",
    "# n : entier, nombre de rectangles\n",
    "# B : réel, base de chaque rectangle\n",
    "# i : entier, compteur (numéro de rectangle)\n",
    "# x : réel, abcisse du côté gauche du rectangle\n",
    "# S : réel, surface de chaque rectangle\n",
    "# integrale : réel, valeur de l'intégrale\n",
    "\n",
    "# saisie des valeurs initiales\n",
    "a = float(input(\"Borne inférieure : \"))\n",
    "b = float(input(\"Borne supérieure : \"))\n",
    "n = int(input(\"Nombre de rectangles : \"))\n",
    "\n",
    "# calcul de la base des rectangles\n",
    "base = ( b - a ) / n\n",
    "\n",
    "# initialisation de l'intégrale\n",
    "integrale = 0\n",
    "\n",
    "# boucle d'intégration\n",
    "for i in range(n):\n",
    "    \n",
    "    # calcul de l'abscisse gauche du rectangle\n",
    "    x = a + i * base\n",
    "    \n",
    "    # calcul de la surface du rectangle\n",
    "    S = base * (x**2 + 0.2)\n",
    "    \n",
    "    # mise à jour de la valeur de l'intégrale\n",
    "    integrale = integrale + S\n",
    "\n",
    "# affichage de la valeur de l'intégrale\n",
    "print(f\"Intégrale : {integrale:.4f}\")"
   ]
  },
  {
   "cell_type": "markdown",
   "id": "b175c4fa",
   "metadata": {},
   "source": [
    "**Algorigramme**\n",
    "\n",
    "<img style=\"text-align:center;margin-top: 50px;margin\" src=\"images/correction_integrale.drawio.png\" width=250>"
   ]
  },
  {
   "cell_type": "markdown",
   "id": "compound-mechanism",
   "metadata": {},
   "source": [
    "## Méthode des trapèzes\n",
    "\n",
    "La méthode des trapèzes, est une extension directe de la méthode des rectangles. Elle consiste à remplacer les rectangles par des trapèzes dont les deux sommets s'appuient sur la courbe de la fonction $f$. La surface du trapèze ainsi constitué est la moyenne des surfaces des rectangles obtenus avec les deux méthodes des rectangles.\n",
    "\n",
    "**Écrivez le code Python permettant de calculer l'intégrale l'intégrale de  la fonction $f(x) = x^2 + 0.2$ en utilisant la méthode des trapèzes. L'utilisateur choisira les valeurs de $a$, $b$ et $n$. Optimisez le code pour accélérer la vitesse de traitement (pensez à la factorisation).**"
   ]
  },
  {
   "cell_type": "code",
   "execution_count": null,
   "id": "aging-apache",
   "metadata": {},
   "outputs": [],
   "source": [
    "# Intégrale par la méthode des trapèzes\n",
    "# Déclaration des variables\n",
    "#\n",
    "# a, b : réels, bornes d'intégration\n",
    "# n : entier, nombre de trapèzes\n",
    "# B : réel, base de chaque rectangle\n",
    "# i : entier, compteur (numéro de rectangle)\n",
    "# x : réel, abcisse du côté droit du trapèze\n",
    "# H : réel, hauteur du bord gauche de chaque trapèze\n",
    "# integrale : réel, valeur de l'intégrale\n",
    "\n",
    "# on utilise une fonction f pour simplifier le code\n",
    "def f(x):\n",
    "    return x**2 + 0.2\n",
    "\n",
    "# saisie des valeurs initiales\n",
    "a = float(input(\"Borne inférieure : \"))\n",
    "b = float(input(\"Borne supérieure : \"))\n",
    "n = int(input(\"Nombre de rectangles : \"))\n",
    "\n",
    "# calcul de la base\n",
    "base = ( b - a ) / n\n",
    "\n",
    "# initialisation de l'intégrale\n",
    "integrale = ( 1 / 2) * ( f(a) + f(b) ) \n",
    "\n",
    "# boucle d'intégration\n",
    "for i in range(1, n):\n",
    "    \n",
    "    # calcul de l'abscisse gauche du trapèze\n",
    "    x = a + i * base\n",
    "    \n",
    "    # calcul de la hauteur du bord gauche du trapèze\n",
    "    H = f(x)\n",
    "    \n",
    "    # mise à jour de la valeur de l'intégrale\n",
    "    integrale = integrale + H\n",
    "\n",
    "# factorisation : on multiple par la base à la fin du calcul plutôt que pour chaque trapèze\n",
    "integrale = base * integrale\n",
    "\n",
    "# affichage de la valeur de l'intégrale\n",
    "print(f\"Intégrale : {integrale:.4f}\")"
   ]
  },
  {
   "cell_type": "markdown",
   "id": "a5b35ec3",
   "metadata": {},
   "source": [
    "**Algorigramme**\n",
    "\n",
    "il s'agit du même algorigramme que pour la méthode des rectangles. La valeur initiale du compteur ainsi que les calculs à effectuer sont cependant différents."
   ]
  }
 ],
 "metadata": {
  "kernelspec": {
   "display_name": "Python 3 (ipykernel)",
   "language": "python",
   "name": "python3"
  },
  "language_info": {
   "codemirror_mode": {
    "name": "ipython",
    "version": 3
   },
   "file_extension": ".py",
   "mimetype": "text/x-python",
   "name": "python",
   "nbconvert_exporter": "python",
   "pygments_lexer": "ipython3",
   "version": "3.12.3"
  }
 },
 "nbformat": 4,
 "nbformat_minor": 5
}
