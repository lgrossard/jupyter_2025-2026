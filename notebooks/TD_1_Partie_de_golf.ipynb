{
 "cells": [
  {
   "cell_type": "markdown",
   "id": "eligible-restoration",
   "metadata": {},
   "source": [
    "# Fiche TD 1 : une partie de golf\n",
    "\n",
    "L'objectif est ici d'écrire un petit jeu qui simule une partie de golf. L'ordinateur choisit la distance séparant le joueur du trou, et le but du jeu est d'envoyer la balle le plus près du trou. Pour cela, le joueur choisit l'angle et la vitesse initiaux de la balle. Le programme calcule alors la distance à laquelle la balle touche le sol à partir des équations régissant sa trajectoire. Afin de simplifier le problème, vous ferez quelques approximations :\n",
    "\n",
    "- les effets de la présence d'une atmosphère (frottements, vents…) ne sont pas pris en compte,\n",
    "- la balle ne rebondit pas et ne roule pas lorsqu'elle touche le sol."
   ]
  },
  {
   "cell_type": "markdown",
   "id": "foster-measurement",
   "metadata": {},
   "source": [
    "<img style=\"float:center;width:800px;\" src=\"images/golf.png\">"
   ]
  },
  {
   "cell_type": "markdown",
   "id": "concrete-bernard",
   "metadata": {},
   "source": [
    "## Étude préliminaire\n",
    "\n",
    "Le système d'équations paramétriques décrivant la trajectoire de la balle s'écrit :\n",
    "\n",
    "$$\n",
    "x(t)  =  \\| \\vec{V} \\| \\cdot \\cos (\\alpha) \\cdot t\n",
    "$$\n",
    "$$\n",
    "y(t)  =  -\\dfrac{1}{2}gt^2 + \\| \\vec{V} \\| \\cdot \\sin (\\alpha) \\cdot t + y_0\n",
    "$$\n",
    "\n",
    "avec g=9.8 m.s⁻²"
   ]
  },
  {
   "cell_type": "markdown",
   "id": "southwest-george",
   "metadata": {},
   "source": [
    "## Programme de base\n",
    "\n",
    "Dans un premier temps, on pose $y_0 = 0~m$\n",
    "\n",
    "Écrivez le code du programme de base dont voici les différentes étapes :\n",
    "\n",
    "- définissez les différentes variables utilisées dans le programme\n",
    "- initialisez la variable `g`\n",
    "- demandez à l'utilisateur de saisir l'angle initial en degrés. Le programme placera la valeur saisie dans la variable `alpha_degres`\n",
    "- demandez ensuite la vitesse initiale de la balle en km/h. Le programme placera la valeur saisie dans la variable `v_kmh`\n",
    "- placez dans la variable `alpha_radians` l'angle initial en radians, calculé à partir de `alpha_degres`\n",
    "- de la même manière, placez dans la variable `v_ms` la vitesse initiale en m/s calculée à partir de `v_kmh`\n",
    "- initialisez alors les coefficients `a`, `b` et `c` du polynôme qui décrit la trajectoire de la balle suivant `y`\n",
    "- calculez le discriminant de ce polynôme et placez-le dans la variable `delta`\n",
    "- calculez `tvol` et `xmax`\n",
    "- affichez enfin `xmax` à l'écran, sans oublier son unité.\n"
   ]
  },
  {
   "cell_type": "code",
   "execution_count": 1,
   "id": "provincial-nowhere",
   "metadata": {},
   "outputs": [],
   "source": [
    "# Variables\n",
    "#\n",
    "# g : réel, gravité en m/s2\n",
    "# alpha_degres : réel, angle initial en degrés\n",
    "# alpha_radians : réel, angle initial en radian\n",
    "# v_kmh : réel, vitesse initiale en km/h\n",
    "# v_ms : réel, vitesse initiale en m/s\n",
    "# a,b,c : réels, coefficient du polynome du second degrée\n",
    "# delta : réel, discriminant du polynome\n",
    "# tvol : réel, temps de vol en s\n",
    "# x max : réel, position de la balle lorsqu'elle touche le sol\n",
    "\n",
    "from math import sin, cos, pi, sqrt\n",
    "\n",
    "\n",
    "# Initialisations\n",
    "g = 9.8\n",
    "y0 = 0\n",
    "\n",
    "# Demandes à l'utilisateurs\n",
    "alpha_degres = float ( input (\" Valeur de l'angle initial en degré : \") )\n",
    "v_kmh = float ( input (\" Valeur de la vitesse de la balle en km/h : \") )\n",
    "\n",
    "# Conversions\n",
    "alpha_radians = (alpha_degres * pi) / 180\n",
    "v_ms = v_kmh / 3.6\n",
    "\n",
    "# Calculs des coefficients a, b et c\n",
    "a = (-1/2)*g\n",
    "b = v_ms * sin( alpha_radians )\n",
    "c = y0\n",
    "\n",
    "# Calcul du discriminant\n",
    "delta = b**2 - 4 * a * c\n",
    "\n",
    "# Calcul du temps de vol\n",
    "tvol = ( -b - sqrt(delta)) / ( 2 * a)\n",
    "\n",
    "# Calcul de la position finale de la balle\n",
    "xmax = v_ms * cos(alpha_radians) * tvol\n",
    "\n",
    "# Affichage de la position finale à l'aide d'une chaîne f\n",
    "print(f\"xmax = {xmax:.2f} m\")\n"
   ]
  },
  {
   "cell_type": "markdown",
   "id": "c1f2fa66",
   "metadata": {},
   "source": [
    "## Logigramme\n",
    "\n",
    "Pour vous aider à mieux appréhender le déroulement du code attendu, voici sa représentation graphique sous forme de logigramme :\n",
    "\n",
    "<img src=\"images/logigramme_golf.png\">"
   ]
  },
  {
   "cell_type": "code",
   "execution_count": null,
   "id": "553b11b2",
   "metadata": {},
   "outputs": [],
   "source": []
  }
 ],
 "metadata": {
  "kernelspec": {
   "display_name": "Python 3 (ipykernel)",
   "language": "python",
   "name": "python3"
  },
  "language_info": {
   "codemirror_mode": {
    "name": "ipython",
    "version": 3
   },
   "file_extension": ".py",
   "mimetype": "text/x-python",
   "name": "python",
   "nbconvert_exporter": "python",
   "pygments_lexer": "ipython3",
   "version": "3.12.3"
  }
 },
 "nbformat": 4,
 "nbformat_minor": 5
}
