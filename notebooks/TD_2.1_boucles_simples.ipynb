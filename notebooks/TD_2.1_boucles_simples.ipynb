{
 "cells": [
  {
   "cell_type": "markdown",
   "id": "middle-estate",
   "metadata": {},
   "source": [
    "# Ex 2.1 : boucles simples\n",
    "\n",
    "Écrivez les codes Python permettant d'afficher à l'écran les suites numériques suivantes :"
   ]
  },
  {
   "cell_type": "markdown",
   "id": "daily-mistress",
   "metadata": {},
   "source": [
    "## 1 3 5 7 9 11 13"
   ]
  },
  {
   "cell_type": "code",
   "execution_count": null,
   "id": "e2835b3d",
   "metadata": {},
   "outputs": [],
   "source": [
    "# Code python\n",
    "# ...\n"
   ]
  },
  {
   "cell_type": "markdown",
   "id": "vocal-computer",
   "metadata": {},
   "source": [
    "## 31 26 21 16 11 6 1"
   ]
  },
  {
   "cell_type": "code",
   "execution_count": null,
   "id": "employed-netherlands",
   "metadata": {},
   "outputs": [],
   "source": [
    "# Code python\n",
    "# ...\n"
   ]
  },
  {
   "cell_type": "markdown",
   "id": "funded-banks",
   "metadata": {},
   "source": [
    "## 3 5 9 17 33 65 129"
   ]
  },
  {
   "cell_type": "code",
   "execution_count": null,
   "id": "higher-fashion",
   "metadata": {},
   "outputs": [],
   "source": [
    "# Code python\n",
    "# ...\n"
   ]
  },
  {
   "cell_type": "markdown",
   "id": "5f589e20",
   "metadata": {},
   "source": [
    "## 0 1 2 3 4 0 1 2 3 4"
   ]
  },
  {
   "cell_type": "code",
   "execution_count": null,
   "id": "a65449a4",
   "metadata": {},
   "outputs": [],
   "source": [
    "# Code python\n",
    "# ...\n"
   ]
  },
  {
   "cell_type": "markdown",
   "id": "6da03803",
   "metadata": {},
   "source": [
    "## 1 2 3 4 5 6 7 1 2 3 4 5 6 7"
   ]
  },
  {
   "cell_type": "code",
   "execution_count": null,
   "id": "d1b1dd6f",
   "metadata": {},
   "outputs": [],
   "source": [
    "# Code python\n",
    "# ...\n"
   ]
  },
  {
   "cell_type": "markdown",
   "id": "settled-warehouse",
   "metadata": {},
   "source": [
    "## 1 4 2 0 3 1 4 2 0 3 1 4 2 0 3 1 4"
   ]
  },
  {
   "cell_type": "code",
   "execution_count": null,
   "id": "medical-training",
   "metadata": {},
   "outputs": [],
   "source": [
    "     # Code python\n",
    "# ...\n"
   ]
  }
 ],
 "metadata": {
  "kernelspec": {
   "display_name": "Python 3 (ipykernel)",
   "language": "python",
   "name": "python3"
  },
  "language_info": {
   "codemirror_mode": {
    "name": "ipython",
    "version": 3
   },
   "file_extension": ".py",
   "mimetype": "text/x-python",
   "name": "python",
   "nbconvert_exporter": "python",
   "pygments_lexer": "ipython3",
   "version": "3.12.3"
  }
 },
 "nbformat": 4,
 "nbformat_minor": 5
}
