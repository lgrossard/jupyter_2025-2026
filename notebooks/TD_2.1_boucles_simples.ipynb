{
 "cells": [
  {
   "cell_type": "markdown",
   "id": "middle-estate",
   "metadata": {},
   "source": [
    "# Ex 2.1 : boucles simples\n",
    "\n",
    "Écrivez les codes Python permettant d'afficher à l'écran les suites numériques suivantes :"
   ]
  },
  {
   "cell_type": "markdown",
   "id": "daily-mistress",
   "metadata": {},
   "source": [
    "## 1 3 5 7 9 11 13"
   ]
  },
  {
   "cell_type": "code",
   "execution_count": null,
   "id": "7b861755",
   "metadata": {},
   "outputs": [],
   "source": [
    "# initialisation du compteur\n",
    "i = 1\n",
    "\n",
    "# boucle d'affichage\n",
    "while i <= 13:\n",
    "    \n",
    "    # affichage du compteur\n",
    "    # end permet d'indiquer ce qu'il faut afficher ensuite (ici un espace, donc pas de retour à la ligne)\n",
    "    print(i, end = \" \")\n",
    "    \n",
    "    # incrémentation du compteur\n",
    "    i = i + 2"
   ]
  },
  {
   "cell_type": "markdown",
   "id": "vocal-computer",
   "metadata": {},
   "source": [
    "## 31 26 21 16 11 6 1"
   ]
  },
  {
   "cell_type": "code",
   "execution_count": null,
   "id": "employed-netherlands",
   "metadata": {},
   "outputs": [],
   "source": [
    "# initialisation du compteur\n",
    "i = 31\n",
    "\n",
    "# boucle d'affichage\n",
    "while i > 0:\n",
    "    \n",
    "    # affichage du compteur\n",
    "    print(i, end = \" \")\n",
    "    \n",
    "    # incrémentation du compteur\n",
    "    # i = i - 5\n",
    "    i -= 5\n"
   ]
  },
  {
   "cell_type": "markdown",
   "id": "funded-banks",
   "metadata": {},
   "source": [
    "## 3 5 9 17 33 65 129"
   ]
  },
  {
   "cell_type": "markdown",
   "id": "c11f72cd",
   "metadata": {},
   "source": [
    "**solution 1**"
   ]
  },
  {
   "cell_type": "code",
   "execution_count": null,
   "id": "higher-fashion",
   "metadata": {},
   "outputs": [],
   "source": [
    "# initialisation du compteur\n",
    "i = 3\n",
    "\n",
    "# boucle d'affichage\n",
    "while i <= 129:\n",
    "    \n",
    "    # affichage du compteur\n",
    "    print(i, end = \" \")\n",
    "    \n",
    "    # incrémentation du compteur\n",
    "    i = (i * 2 ) -1"
   ]
  },
  {
   "cell_type": "markdown",
   "id": "440f33bc",
   "metadata": {},
   "source": [
    "**solution 2**\n",
    "\n",
    "on utilise une boucle for ... in ... et range pour définir sur quelle plage le compteur i évolue. La valeur affichée n'est ici pas le compteur (qui évolue de 1 à 7), mais une valeur calculée à partir du compteur."
   ]
  },
  {
   "cell_type": "code",
   "execution_count": null,
   "id": "e04a310b",
   "metadata": {},
   "outputs": [],
   "source": [
    "# boucle de calcul\n",
    "for i in range(1,8):\n",
    "    \n",
    "    # affichage de la valeur calculée à partir du compteur\n",
    "    print(2**i + 1, end = \" \")"
   ]
  },
  {
   "cell_type": "markdown",
   "id": "032db2d8",
   "metadata": {},
   "source": [
    "**solution 3**\n",
    "\n",
    "le compteur i évolue de 0 à 6 (donc plus besoin de donner la valeur initiale, qui est 0 par défaut)"
   ]
  },
  {
   "cell_type": "code",
   "execution_count": null,
   "id": "aaaaae2a",
   "metadata": {},
   "outputs": [],
   "source": [
    "# boucle de calcul\n",
    "for i in range(7):\n",
    "    \n",
    "    # affichage de la valeur calculée à partir du compteur\n",
    "    print(2**(i+1) + 1, end = \" \")"
   ]
  },
  {
   "cell_type": "markdown",
   "id": "5f589e20",
   "metadata": {},
   "source": [
    "## 0 1 2 3 4 0 1 2 3 4"
   ]
  },
  {
   "cell_type": "markdown",
   "id": "8541cef9",
   "metadata": {},
   "source": [
    "On doit afficher 10 valeurs. Elles sont comprises entre 0 et 4. Après 4, on repart à 0.  \n",
    "On peut donc incrémenter un compteur et afficher ce compteur modulo 5."
   ]
  },
  {
   "cell_type": "code",
   "execution_count": null,
   "id": "a65449a4",
   "metadata": {},
   "outputs": [],
   "source": [
    "# boucle de calcul\n",
    "# on veut afficher 10 valeurs\n",
    "for i in range(10):\n",
    "    \n",
    "    # affichage de la valeur calculée à partir du compteur\n",
    "    print(i % 5, end = \" \")"
   ]
  },
  {
   "cell_type": "markdown",
   "id": "6da03803",
   "metadata": {},
   "source": [
    "## 1 2 3 4 5 6 7 1 2 3 4 5 6 7"
   ]
  },
  {
   "cell_type": "markdown",
   "id": "aaa528c0",
   "metadata": {},
   "source": [
    "On doit afficher 14 valeurs. Elles sont comprises entre 1 et 7.  \n",
    "On peut donc générer la suite de valeurs 0 1 2 3 4 5 6 de manière cyclique en utilisant un modulo 7, puis ajouter 1 au résultat."
   ]
  },
  {
   "cell_type": "code",
   "execution_count": null,
   "id": "d1b1dd6f",
   "metadata": {},
   "outputs": [],
   "source": [
    "# boucle de calcul\n",
    "# on veut afficher 14 valeurs\n",
    "for i in range(14):\n",
    "    \n",
    "    # affichage de la valeur calculée à partir du compteur\n",
    "    print(i % 7 + 1, end = \" \")"
   ]
  },
  {
   "cell_type": "markdown",
   "id": "settled-warehouse",
   "metadata": {},
   "source": [
    "## 1 4 2 0 3 1 4 2 0 3 1 4 2 0 3 1 4"
   ]
  },
  {
   "cell_type": "markdown",
   "id": "359ce03e",
   "metadata": {},
   "source": [
    "On doit afficher 17 valeurs, toutes comprises entre 0 et 4. On peut donc utiliser le modulo 5.  \n",
    "On remarque que les valeurs sont généralement incrémentées de +3"
   ]
  },
  {
   "cell_type": "code",
   "execution_count": null,
   "id": "medical-training",
   "metadata": {},
   "outputs": [],
   "source": [
    "# initialisation du compteur\n",
    "i = 1\n",
    "\n",
    "# boucle de calcul\n",
    "while i <= 17*3:\n",
    "    \n",
    "    # affichage de la valeur calculée à partir du compteur\n",
    "    print(i % 5, end = \" \")\n",
    "    \n",
    "    # incrémentation du compteur\n",
    "    i = i + 3"
   ]
  }
 ],
 "metadata": {
  "kernelspec": {
   "display_name": "Python 3 (ipykernel)",
   "language": "python",
   "name": "python3"
  },
  "language_info": {
   "codemirror_mode": {
    "name": "ipython",
    "version": 3
   },
   "file_extension": ".py",
   "mimetype": "text/x-python",
   "name": "python",
   "nbconvert_exporter": "python",
   "pygments_lexer": "ipython3",
   "version": "3.12.3"
  }
 },
 "nbformat": 4,
 "nbformat_minor": 5
}
