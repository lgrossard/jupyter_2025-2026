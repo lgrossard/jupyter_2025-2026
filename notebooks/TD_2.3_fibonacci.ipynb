{
 "cells": [
  {
   "cell_type": "markdown",
   "id": "alternative-camel",
   "metadata": {},
   "source": [
    "# Ex. 2.3 : une histoire de lapins transalpins\n",
    "\n",
    "En 1202, un mathématicien italien connu sous le nom de Fibonacci a posé la question suivante : supposons qu'un couple (mâle--femelle) de lapins est né au début de l'année. Nous considérons que les conditions suivantes sont vérifiées :\n",
    "\n",
    "- la maturité sexuelle du lapin est atteinte après un mois, qui est aussi la durée de gestation ;\n",
    "- chaque portée comporte toujours un mâle et une femelle ;\n",
    "- les lapins ne meurent pas.\n",
    "\n",
    "Nous souhaitons connaître le nombre de couples de lapins au bout d'un an. Pour répondre à cette question, nous avons représenté ci-dessous le nombre de couples pour les cinq premiers mois de l'année.\n",
    "\n",
    "<img src=\"images/lapins.png\">\n"
   ]
  },
  {
   "cell_type": "markdown",
   "id": "rational-russell",
   "metadata": {},
   "source": [
    "En vous appuyant sur l'algorigramme ci-dessous, écrivez le code Python qui calcule le nombre de couples de lapin au bout du n-ième mois, n étant choisi par l'utilisateur (n>2). Ne cherchez pas à économiser les variables. \n",
    "\n",
    "Assurez-vous que n est bien positif (vous pouvez par exemple utiliser une boucle while). Gérez les cas n=1 et n=2."
   ]
  },
  {
   "cell_type": "code",
   "execution_count": null,
   "id": "handmade-chapter",
   "metadata": {},
   "outputs": [],
   "source": [
    "# Variables\n",
    "# i : entier, compteur contenant le numero du mois\n",
    "# n : entier, mois pour lequel on shouhaite connaître le nombre de couples de lapins\n",
    "# fn : entier, nombre de couple au mois n\n",
    "# fn_1 : entier, nombre de couple au mois n-1\n",
    "# fn_2 : entier, nombre de couple au mois n-2\n",
    "\n",
    "# Initialisation des variables\n",
    "i = 3\n",
    "fn_1 = 1\n",
    "fn_2 = 1\n",
    "n = int(input(\"Saisissez le mois  pour calculer le nombre de couple de lapin (>2) : \"))\n",
    "fn = 1\n",
    "\n",
    "# gestion des cas n = 1 et n = 2\n",
    "if n == 1 or n == 2:\n",
    "    print(f\" Le nombre de lapin au mois {n} est 1\")\n",
    "else:\n",
    "    # ici, n > 2, on débute le calcul\n",
    "    # boucle de calcul\n",
    "    while (i<=n):\n",
    "        # calcul du nombre de couples de lapins\n",
    "        fn = fn_1 + fn_2\n",
    "        \n",
    "        # mise à jour des valeurs des mois précédents\n",
    "        fn_2 = fn_1\n",
    "        fn_1 = fn\n",
    "        \n",
    "        # incrémentation du compteur\n",
    "        i = i + 1\n",
    "\n",
    "    # Affichage du nombre de couples de lapins au mois n\n",
    "    print(f\" Le nombre de lapin au mois {n} est {fn}\")  "
   ]
  },
  {
   "cell_type": "markdown",
   "id": "5ce3a2e4",
   "metadata": {},
   "source": [
    "<img src=\"images/fibonacci.png\">"
   ]
  }
 ],
 "metadata": {
  "kernelspec": {
   "display_name": "Python 3 (ipykernel)",
   "language": "python",
   "name": "python3"
  },
  "language_info": {
   "codemirror_mode": {
    "name": "ipython",
    "version": 3
   },
   "file_extension": ".py",
   "mimetype": "text/x-python",
   "name": "python",
   "nbconvert_exporter": "python",
   "pygments_lexer": "ipython3",
   "version": "3.12.3"
  }
 },
 "nbformat": 4,
 "nbformat_minor": 5
}
