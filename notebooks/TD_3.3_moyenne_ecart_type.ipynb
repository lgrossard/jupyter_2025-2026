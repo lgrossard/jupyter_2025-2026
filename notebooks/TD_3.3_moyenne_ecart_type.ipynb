{
 "cells": [
  {
   "cell_type": "markdown",
   "id": "commercial-diameter",
   "metadata": {},
   "source": [
    "# Ex. 3.3 : moyenne et écart-type d'une série de valeurs\n",
    "\n",
    "L'objectif est de calculer la moyenne et l'écart-type d'une série de valeurs saisies par l'utilisateur, puis d'en afficher le résultat. L'utilisateur saisira les valeurs les unes après les autres, et terminera par la valeur particulière `-1` pour signifier que la saisie est terminée. Les valeurs seront placées dans une liste.\n",
    "\n",
    "**bilan et type des variables nécessaires dans l'algorithme :**"
   ]
  },
  {
   "cell_type": "code",
   "execution_count": 1,
   "id": "mysterious-spencer",
   "metadata": {},
   "outputs": [],
   "source": [
    "# Variables :\n"
   ]
  },
  {
   "cell_type": "markdown",
   "id": "promising-daisy",
   "metadata": {},
   "source": [
    "- Une première boucle sera utilisée pour remplir la liste à partir de ce que saisit l’utilisateur.\n",
    "- Une seconde boucle permettra de calculer la valeur moyenne des données contenues dans la liste.\n",
    "- En réutilisant la valeur de la moyenne calculée précédemment, et à l'aide d'une boucle, calculez l'écart-type expérimental des données de la liste, défini par :\n",
    "$$\n",
    "s = \\sqrt{\\cfrac{1}{n-1} \\sum_{i=1}^n (x_i - \\bar{x})^2}\n",
    "$$\n",
    "\n",
    "$x_i$ désignant la i-ième valeur de la liste, et $\\bar{x}$ la valeur moyenne des valeurs de cette liste."
   ]
  },
  {
   "cell_type": "code",
   "execution_count": 3,
   "id": "auburn-bracket",
   "metadata": {},
   "outputs": [],
   "source": [
    "# Code python\n",
    "# ..."
   ]
  }
 ],
 "metadata": {
  "kernelspec": {
   "display_name": "Python 3 (ipykernel)",
   "language": "python",
   "name": "python3"
  },
  "language_info": {
   "codemirror_mode": {
    "name": "ipython",
    "version": 3
   },
   "file_extension": ".py",
   "mimetype": "text/x-python",
   "name": "python",
   "nbconvert_exporter": "python",
   "pygments_lexer": "ipython3",
   "version": "3.12.3"
  }
 },
 "nbformat": 4,
 "nbformat_minor": 5
}
