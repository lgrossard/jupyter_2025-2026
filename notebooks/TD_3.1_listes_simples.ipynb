{
 "cells": [
  {
   "cell_type": "markdown",
   "id": "atlantic-costume",
   "metadata": {},
   "source": [
    "# Ex 3.1 : création de listes simples\n",
    "\n",
    "Écrivez le code Python permettant d'initialiser les trois listes `t1, t2, t3` suivantes :"
   ]
  },
  {
   "cell_type": "markdown",
   "id": "marked-rebound",
   "metadata": {},
   "source": [
    "##  t1 : 0 0 0 0 0 0 0 0 0 0"
   ]
  },
  {
   "cell_type": "code",
   "execution_count": 1,
   "id": "annoying-disco",
   "metadata": {},
   "outputs": [],
   "source": [
    "# Code python\n",
    "# ..."
   ]
  },
  {
   "cell_type": "markdown",
   "id": "accessible-netscape",
   "metadata": {},
   "source": [
    "## t2 : 1 2 3 4 5 6 7 8 9 10"
   ]
  },
  {
   "cell_type": "code",
   "execution_count": 2,
   "id": "verbal-dealer",
   "metadata": {},
   "outputs": [],
   "source": [
    "# Code python\n",
    "# ..."
   ]
  },
  {
   "cell_type": "markdown",
   "id": "computational-minute",
   "metadata": {},
   "source": [
    "## t3 : 20 18 16 14 12 10 8 6 4 2"
   ]
  },
  {
   "cell_type": "code",
   "execution_count": 4,
   "id": "deadly-grade",
   "metadata": {},
   "outputs": [],
   "source": [
    "# Code python\n",
    "# ..."
   ]
  }
 ],
 "metadata": {
  "kernelspec": {
   "display_name": "Python 3 (ipykernel)",
   "language": "python",
   "name": "python3"
  },
  "language_info": {
   "codemirror_mode": {
    "name": "ipython",
    "version": 3
   },
   "file_extension": ".py",
   "mimetype": "text/x-python",
   "name": "python",
   "nbconvert_exporter": "python",
   "pygments_lexer": "ipython3",
   "version": "3.12.3"
  }
 },
 "nbformat": 4,
 "nbformat_minor": 5
}
