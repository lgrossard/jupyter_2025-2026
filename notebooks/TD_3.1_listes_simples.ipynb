{
 "cells": [
  {
   "cell_type": "markdown",
   "id": "atlantic-costume",
   "metadata": {},
   "source": [
    "# Ex 3.1 : création de listes simples\n",
    "\n",
    "Écrivez le code Python permettant d'initialiser les trois listes `t1, t2, t3` suivantes :"
   ]
  },
  {
   "cell_type": "markdown",
   "id": "marked-rebound",
   "metadata": {},
   "source": [
    "##  t1 : 0 0 0 0 0 0 0 0 0 0"
   ]
  },
  {
   "cell_type": "code",
   "execution_count": null,
   "id": "annoying-disco",
   "metadata": {},
   "outputs": [],
   "source": [
    "# création de la liste vide\n",
    "t1 = []\n",
    "\n",
    "# remplissage de la liste\n",
    "for i in range(10):\n",
    "    t1.append(0)\n",
    "\n",
    "# affichage de la liste\n",
    "for i in range(len(t1)):\n",
    "    print(t1[i], end=\" \")\n",
    "print()\n",
    "    \n",
    "# affichage de la liste (méthode recommandée)\n",
    "for valeur in t1:\n",
    "    print(valeur, end = \" \")"
   ]
  },
  {
   "cell_type": "markdown",
   "id": "accessible-netscape",
   "metadata": {},
   "source": [
    "## t2 : 1 2 3 4 5 6 7 8 9 10"
   ]
  },
  {
   "cell_type": "code",
   "execution_count": null,
   "id": "verbal-dealer",
   "metadata": {},
   "outputs": [],
   "source": [
    "# création de la liste\n",
    "t2 = []\n",
    "\n",
    "# remplissage de la liste\n",
    "for i in range(10):\n",
    "    t2.append(i + 1)\n",
    "\n",
    "# affichage de la liste (méthode recommandée)\n",
    "for valeur in t2:\n",
    "    print(valeur, end = \" \")"
   ]
  },
  {
   "cell_type": "markdown",
   "id": "computational-minute",
   "metadata": {},
   "source": [
    "## t3 : 20 18 16 14 12 10 8 6 4 2"
   ]
  },
  {
   "cell_type": "code",
   "execution_count": null,
   "id": "deadly-grade",
   "metadata": {},
   "outputs": [],
   "source": [
    "# création de la liste\n",
    "t3 = []\n",
    "\n",
    "# remplissage de la liste\n",
    "for i in range(10):\n",
    "    t3.append(20 - 2*i)\n",
    "\n",
    "# affichage de la liste (méthode recommandée)\n",
    "for valeur in t3:\n",
    "    print(valeur, end = \" \")"
   ]
  },
  {
   "cell_type": "code",
   "execution_count": null,
   "id": "a88b2df7",
   "metadata": {},
   "outputs": [],
   "source": []
  }
 ],
 "metadata": {
  "kernelspec": {
   "display_name": "Python 3 (ipykernel)",
   "language": "python",
   "name": "python3"
  },
  "language_info": {
   "codemirror_mode": {
    "name": "ipython",
    "version": 3
   },
   "file_extension": ".py",
   "mimetype": "text/x-python",
   "name": "python",
   "nbconvert_exporter": "python",
   "pygments_lexer": "ipython3",
   "version": "3.12.3"
  }
 },
 "nbformat": 4,
 "nbformat_minor": 5
}
