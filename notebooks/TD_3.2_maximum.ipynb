{
 "cells": [
  {
   "cell_type": "markdown",
   "id": "stunning-tolerance",
   "metadata": {},
   "source": [
    "# Ex 3.2 : recherche du maximum dans une liste\n",
    "\n",
    "On souhaite déterminer la valeur maximale contenue dans une liste de notes (nombres réels entre\n",
    "0 et 20), ainsi que l’indice de ce maximum dans la liste. Pour les tests, la liste sera initialisée directe-\n",
    "ment dans le code Python avec la ligne suivante :\n",
    "\n",
    "\n",
    "notes = [17.5, 2, 3, 18.5, 10.5, 18.5]\n",
    "\n"
   ]
  },
  {
   "cell_type": "code",
   "execution_count": 1,
   "id": "according-memphis",
   "metadata": {},
   "outputs": [],
   "source": [
    "# Code python\n",
    "# ..."
   ]
  },
  {
   "cell_type": "markdown",
   "id": "swedish-induction",
   "metadata": {},
   "source": [
    "## Fonction de recherche du maximum dans une liste\n",
    "\n",
    "On souhaite écrire une fonction qui détermine la valeur maximale contenue dans une liste de notes (nombres réels entre 0 et 20), ainsi que l’indice de ce maximum dans la liste. La liste sera passée en paramètre de la fonction. La fonction renverra une autre liste contenant deux éléments : la valeur maximale et son indice dans la liste.\n",
    "\n",
    "\n",
    "Pour les tests, la liste sera initialisée directement dans le code Python avec la ligne suivante dans\n",
    "le programme principal :\n",
    "\n",
    "notes = [17.5, 2, 3, 18.5, 10.5, 18.5]"
   ]
  },
  {
   "cell_type": "code",
   "execution_count": 1,
   "id": "monetary-billy",
   "metadata": {},
   "outputs": [],
   "source": [
    "# Code python\n",
    "# ..."
   ]
  }
 ],
 "metadata": {
  "kernelspec": {
   "display_name": "Python 3 (ipykernel)",
   "language": "python",
   "name": "python3"
  },
  "language_info": {
   "codemirror_mode": {
    "name": "ipython",
    "version": 3
   },
   "file_extension": ".py",
   "mimetype": "text/x-python",
   "name": "python",
   "nbconvert_exporter": "python",
   "pygments_lexer": "ipython3",
   "version": "3.12.3"
  }
 },
 "nbformat": 4,
 "nbformat_minor": 5
}
