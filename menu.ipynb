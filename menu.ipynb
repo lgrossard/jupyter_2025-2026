{
 "cells": [
  {
   "cell_type": "markdown",
   "metadata": {},
   "source": [
    "# Cours d'algorithmique et informatique\n",
    "*dernière mise à jour le 14/09/2025*\n",
    "<img style=\"float:right;width:200px;margin-top:-80px\" src=\"MP.png\">"
   ]
  },
  {
   "cell_type": "markdown",
   "metadata": {},
   "source": [
    "<hr>\n",
    "\n",
    "## Cours 1\n",
    "\n",
    "- [Présentation de Jupyter](notebooks/presentation_de_jupyter.ipynb)\n",
    "\n",
    "## Cours 2\n",
    "\n",
    "- [Mettre en forme des variables avec les chaînes f](notebooks/chaines-f.ipynb)\n",
    "\n",
    "## Cours 3\n",
    "- [Détermination du jour de la semaine (à rendre)](notebooks/jour_de_la_semaine.ipynb)\n",
    "\n",
    "## Cours 4\n",
    "- [Calcul des racines d'un polynôme d'ordre 2 (à rendre)](notebooks/polynome_second_degre.ipynb)\n",
    "\n",
    "## Travaux dirigés\n",
    "\n",
    "- [Quelques éléments sur les algorigrammes](notebooks/algorigrammes.ipynb)\n",
    "\n",
    "### Fiche 1\n",
    "\n",
    "- [Une partie de Golf](notebooks/TD_1_Partie_de_golf.ipynb)\n",
    "\n",
    "### Fiche 2\n",
    "\n",
    "- [Ex 2.1 : boucle simples](notebooks/TD_2.1_boucles_simples.ipynb)\n",
    "- [Ex 2.2 : moyenne d'une série de notes](notebooks/TD_2.2_moyenne.ipynb)\n",
    "- [Ex 2.3 : une histoire de lapins transalpins](notebooks/TD_2.3_fibonacci.ipynb)\n",
    "- [Ex 2.4 : intégration numérique](notebooks/TD_2.4_integration.ipynb)\n",
    "\n",
    "### Fiche 3\n",
    "\n",
    "- [Ex 3.1 : création de listes simples](notebooks/TD_3.1_listes_simples.ipynb)\n",
    "- [Ex 3.2 : recherche du maximum dans une liste](notebooks/TD_3.2_maximum.ipynb)\n",
    "- [Ex 3.3 : moyenne et écart-type d'une série de valeurs](notebooks/TD_3.3_moyenne_ecart_type.ipynb)\n"
   ]
  },
  {
   "cell_type": "code",
   "execution_count": null,
   "metadata": {},
   "outputs": [],
   "source": []
  }
 ],
 "metadata": {
  "kernelspec": {
   "display_name": "Python 3 (ipykernel)",
   "language": "python",
   "name": "python3"
  },
  "language_info": {
   "codemirror_mode": {
    "name": "ipython",
    "version": 3
   },
   "file_extension": ".py",
   "mimetype": "text/x-python",
   "name": "python",
   "nbconvert_exporter": "python",
   "pygments_lexer": "ipython3",
   "version": "3.12.3"
  }
 },
 "nbformat": 4,
 "nbformat_minor": 4
}
